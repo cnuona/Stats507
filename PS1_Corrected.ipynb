{
  "nbformat": 4,
  "nbformat_minor": 0,
  "metadata": {
    "colab": {
      "name": "PS1_Corrected.ipynb",
      "provenance": [],
      "collapsed_sections": []
    },
    "kernelspec": {
      "display_name": "Python 3",
      "name": "python3"
    },
    "language_info": {
      "name": "python"
    }
  },
  "cells": [
    {
      "cell_type": "code",
      "metadata": {
        "id": "-RoYdiat31he"
      },
      "source": [
        "import math\n",
        "import numpy as np\n",
        "from scipy.stats import norm, sem, zscore, beta\n",
        "import time\n",
        "import markdown"
      ],
      "execution_count": null,
      "outputs": []
    },
    {
      "cell_type": "markdown",
      "metadata": {
        "id": "H6VxV9ZQ_-iJ"
      },
      "source": [
        "<b>For PS6, Corrections: </b>\n",
        "<ol>\n",
        "    <li>\"-8 for 8 functions w/o a docstring\"</li>\n",
        "    <li>\"Q0: -10\"</li>\n",
        "    <li>\"Q3: -4 for missing parameter \"str_fmt\"</li>\n",
        "</ol>"
      ]
    },
    {
      "cell_type": "markdown",
      "metadata": {
        "id": "4GsPylWkiO3h"
      },
      "source": [
        "This is *question 0* for problem set 1 of Stats 507\n",
        "> #### Question 0 is about Markdown.\n",
        "\n",
        "The next question is about the **Fibonacci sequence**, $F_n = F_{n-2} + F_{n-1} $. In part **a** we will define a Python function `fib_rec()`.  \n",
        "\n",
        "Below is a...  \n",
        "\n",
        "### **Level 3 Header**\n",
        "Next, we can make a bulleted list:  \n",
        "* Item 1 \n",
        "  - detail 1\n",
        "  - detail 2 \n",
        "* Item 2\n",
        "\n",
        "Finally, we can make an enumerated list:  \n",
        "\n",
        "1. Item 1\n",
        "2. Item 2\n",
        "3. Item 3\n",
        "\n",
        "\n",
        "\n",
        "\n",
        "\n",
        "\n",
        "\n",
        "  \n",
        "\n",
        "\n",
        "\n",
        "\n",
        "\n"
      ]
    },
    {
      "cell_type": "code",
      "metadata": {
        "colab": {
          "base_uri": "https://localhost:8080/"
        },
        "id": "OZH0yEOTP0zj",
        "outputId": "10350b49-4e0b-40a4-ee98-2cb7c68fae4d"
      },
      "source": [
        "#1a.\n",
        "def fib_rec(n, a=0, b=1):\n",
        "'''\n",
        "Inputs: int n\n",
        "Output: int n-th fibonacci sequence \n",
        "'''\n",
        "  if n == 0:\n",
        "    return a\n",
        "  elif n == 1:\n",
        "    return b\n",
        "  else:\n",
        "    return fib_rec(n - 1) + fib_rec(n - 2)\n",
        "\n",
        "fib_rec(10)"
      ],
      "execution_count": null,
      "outputs": [
        {
          "data": {
            "text/plain": [
              "55"
            ]
          },
          "execution_count": 101,
          "metadata": {},
          "output_type": "execute_result"
        }
      ]
    },
    {
      "cell_type": "code",
      "metadata": {
        "colab": {
          "base_uri": "https://localhost:8080/"
        },
        "id": "GqAOgJaoTlSL",
        "outputId": "0cad7d15-dd9c-41d6-a62b-5400ff6126b2"
      },
      "source": [
        "#1b.\n",
        "def fib_for(n, a=0, b=1):\n",
        "'''\n",
        "Inputs: int n\n",
        "Output: int n-th fibonacci sequence \n",
        "'''\n",
        "  if n == 0:\n",
        "    return a\n",
        "  elif n == 1:\n",
        "    return b\n",
        "  else:\n",
        "    sum = 0\n",
        "    for i in range(1,n):\n",
        "      sum = a + b\n",
        "      a = b\n",
        "      b = sum\n",
        "    return sum\n",
        "    \n",
        "fib_for(10)"
      ],
      "execution_count": null,
      "outputs": [
        {
          "data": {
            "text/plain": [
              "55"
            ]
          },
          "execution_count": 102,
          "metadata": {},
          "output_type": "execute_result"
        }
      ]
    },
    {
      "cell_type": "code",
      "metadata": {
        "colab": {
          "base_uri": "https://localhost:8080/"
        },
        "id": "Pq3LI3EOV5us",
        "outputId": "b2396f9b-ac53-4eb0-d9ea-58f1f29e2e12"
      },
      "source": [
        "#1c. \n",
        "def fib_whl(n, a=0, b=1):\n",
        "'''\n",
        "Inputs: int n\n",
        "Output: int n-th fibonacci sequence \n",
        "'''\n",
        "  if n == 0:\n",
        "    return a\n",
        "  elif n == 1:\n",
        "    return b\n",
        "  else:\n",
        "      sum = 0\n",
        "      i = 1\n",
        "      while i < n:\n",
        "        sum = a + b\n",
        "        a = b\n",
        "        b = sum\n",
        "        i += 1\n",
        "      return sum\n",
        "\n",
        "fib_whl(10)"
      ],
      "execution_count": null,
      "outputs": [
        {
          "data": {
            "text/plain": [
              "55"
            ]
          },
          "execution_count": 103,
          "metadata": {},
          "output_type": "execute_result"
        }
      ]
    },
    {
      "cell_type": "code",
      "metadata": {
        "colab": {
          "base_uri": "https://localhost:8080/"
        },
        "id": "Hf1ohPf1bHWt",
        "outputId": "3449dec2-b365-48ef-fe18-d16b7d04a1f3"
      },
      "source": [
        "#1d. \n",
        "def fib_rnd(n):\n",
        "'''\n",
        "Inputs: int n\n",
        "Output: int n-th fibonacci sequence \n",
        "'''\n",
        "  phi = (1 + math.sqrt(5))/2\n",
        "  fib = round(phi**n/math.sqrt(5))\n",
        "  return fib\n",
        "  \n",
        "fib_rnd(10)"
      ],
      "execution_count": null,
      "outputs": [
        {
          "data": {
            "text/plain": [
              "55"
            ]
          },
          "execution_count": 104,
          "metadata": {},
          "output_type": "execute_result"
        }
      ]
    },
    {
      "cell_type": "code",
      "metadata": {
        "colab": {
          "base_uri": "https://localhost:8080/"
        },
        "id": "AWiB7Oz34yu_",
        "outputId": "86cba14c-7bf7-4772-f7d0-7f1094dfff05"
      },
      "source": [
        "#1e.\n",
        "def fib_flr(n):\n",
        "'''\n",
        "Inputs: int n\n",
        "Output: int n-th fibonacci sequence \n",
        "'''\n",
        "  phi = (1 + math.sqrt(5))/2\n",
        "  fib = math.floor(phi**n/math.sqrt(5) + 1/2)\n",
        "  return fib\n",
        "\n",
        "fib_flr(10)"
      ],
      "execution_count": null,
      "outputs": [
        {
          "data": {
            "text/plain": [
              "55"
            ]
          },
          "execution_count": 105,
          "metadata": {},
          "output_type": "execute_result"
        }
      ]
    },
    {
      "cell_type": "code",
      "metadata": {
        "colab": {
          "base_uri": "https://localhost:8080/"
        },
        "id": "V3oZzXnzMP8i",
        "outputId": "c640c735-4411-4121-f772-c7fbbac3ccfb"
      },
      "source": [
        "#1f. \n",
        "rec_results = [\"fib_rec()\"]\n",
        "for_results = [\"fib_for()\"]\n",
        "whl_results = [\"fib_whl()\"]\n",
        "rnd_results = [\"fib_rnd()\"]\n",
        "flr_results = [\"fib_flr()\"]\n",
        "\n",
        "for i in range(10,31,5):\n",
        "  start = time.time()\n",
        "  fib_rec(i)\n",
        "  end = time.time()\n",
        "  rec_results.append(end-start)\n",
        "\n",
        "  start = time.time()\n",
        "  fib_for(i)\n",
        "  end = time.time()\n",
        "  for_results.append(end-start)\n",
        "\n",
        "  start = time.time()\n",
        "  fib_whl(i)\n",
        "  end = time.time()\n",
        "  whl_results.append(end-start)\n",
        "\n",
        "  start = time.time()\n",
        "  fib_rnd(i)\n",
        "  end = time.time()\n",
        "  rnd_results.append(end-start)\n",
        "\n",
        "  start = time.time()\n",
        "  fib_flr(i)\n",
        "  end = time.time()\n",
        "  flr_results.append(end-start)\n",
        "\n",
        "print(tabulate([rec_results, for_results, whl_results, rnd_results, flr_results]))\n"
      ],
      "execution_count": null,
      "outputs": [
        {
          "name": "stdout",
          "output_type": "stream",
          "text": [
            "---------  -----------  -----------  -----------  -----------  -----------\n",
            "fib_rec()  3.31402e-05  0.000375748  0.00455761   0.0432203    0.484123\n",
            "fib_for()  3.57628e-06  2.86102e-06  3.57628e-06  1.57356e-05  1.16825e-05\n",
            "fib_whl()  2.86102e-06  3.8147e-06   3.57628e-06  6.4373e-06   6.67572e-06\n",
            "fib_rnd()  1.33514e-05  4.29153e-06  4.76837e-06  2.45571e-05  2.00272e-05\n",
            "fib_flr()  4.76837e-06  2.38419e-06  1.90735e-06  5.96046e-06  5.24521e-06\n",
            "---------  -----------  -----------  -----------  -----------  -----------\n"
          ]
        }
      ]
    },
    {
      "cell_type": "code",
      "metadata": {
        "colab": {
          "base_uri": "https://localhost:8080/"
        },
        "id": "zwxE1yVM71Yq",
        "outputId": "36f43052-d7fe-4631-ddad-f51dc4c7ca3c"
      },
      "source": [
        "#2a.\n",
        "def get_row(n):\n",
        "  '''\n",
        "  Input: int n -> n-th row\n",
        "  Output: a list that contains the numbers at the n-th row of Pascal's Triangle\n",
        "  '''\n",
        "  number_lst = [1]\n",
        "\n",
        "  for i in range(1, n+1):\n",
        "    num = number_lst[len(number_lst)-1] * (n+1-i)/i\n",
        "    number_lst.append(int(num))\n",
        "  return number_lst\n",
        "get_row(6)"
      ],
      "execution_count": null,
      "outputs": [
        {
          "data": {
            "text/plain": [
              "[1, 6, 15, 20, 15, 6, 1]"
            ]
          },
          "execution_count": 107,
          "metadata": {},
          "output_type": "execute_result"
        }
      ]
    },
    {
      "cell_type": "code",
      "metadata": {
        "colab": {
          "base_uri": "https://localhost:8080/"
        },
        "id": "DX7zIz8ZG3d2",
        "outputId": "5f3412df-e974-4f4b-a5b7-648a3d190adf"
      },
      "source": [
        "#2b.\n",
        "def print_rows(n):\n",
        "  '''\n",
        "  Input: int n -> rows up to n-th\n",
        "  Output: print the n rows of Pascal's Triangle with spaces\n",
        "  '''\n",
        "  spaces = n + 1\n",
        "  for i in range(n):\n",
        "    spaces = spaces - 1\n",
        "    temp_list = get_row(i)\n",
        "    print(\" \" * spaces, end=\" \")\n",
        "    for j in temp_list:\n",
        "      print(str(j) + \" \", end = \" \")\n",
        "    print()\n",
        "print_rows(6)"
      ],
      "execution_count": null,
      "outputs": [
        {
          "name": "stdout",
          "output_type": "stream",
          "text": [
            "       1  \n",
            "      1  1  \n",
            "     1  2  1  \n",
            "    1  3  3  1  \n",
            "   1  4  6  4  1  \n",
            "  1  5  10  10  5  1  \n"
          ]
        }
      ]
    },
    {
      "cell_type": "code",
      "metadata": {
        "colab": {
          "base_uri": "https://localhost:8080/",
          "height": 35
        },
        "id": "zxi_B3rF5gKH",
        "outputId": "b8b5983f-e5f0-4e8e-f889-7df2c03f3dd1"
      },
      "source": [
        "#3a.\n",
        "def point_interval_estimate(data, level):\n",
        "  '''\n",
        "  Inputs: int/float[] data -> source data\n",
        "          float level -> confidence level\n",
        "  Output: formatted string\n",
        "  '''\n",
        "  try:\n",
        "    np.array(data)\n",
        "  except:\n",
        "    print(\"The input dataset cannot be converted as an Numpy array.\")\n",
        "  data = np.array(data)\n",
        "  #point estimate for the population mean\n",
        "  est = sum(data)/len(data)\n",
        "\n",
        "  alpha_level = (1 - level)/2\n",
        "  z = norm.ppf(1 - alpha_level)\n",
        "\n",
        "  #interval estimate\n",
        "  lwr = round(est - z * (np.std(data)/math.sqrt(len(data))), 2)\n",
        "  upr = round(est + z * (np.std(data)/math.sqrt(len(data))), 2)\n",
        "\n",
        "  dictionary = {\"est\": est, \"lwr\": lwr, \"upr\": upr, \"level\": level}\n",
        "  stat_str = \"θ[{0}%CI: ({1}, {2})]\".format(str(int(level*100)), str(lwr), str(upr))\n",
        "  \n",
        "  return stat_str\n",
        "point_interval_estimate([2,6,4,2], 0.95)"
      ],
      "execution_count": null,
      "outputs": [
        {
          "data": {
            "application/vnd.google.colaboratory.intrinsic+json": {
              "type": "string"
            },
            "text/plain": [
              "'θ[95%CI: (1.87, 5.13)]'"
            ]
          },
          "execution_count": 109,
          "metadata": {},
          "output_type": "execute_result"
        }
      ]
    },
    {
      "cell_type": "code",
      "metadata": {
        "id": "Qem-IGXJjt4_"
      },
      "source": [
        "#3b. \n",
        "def CI_calculator(method, x, n, level, str_format):\n",
        "  '''\n",
        "  Inputs: String method -> the method name to calculate confidence interval\n",
        "          int x -> number of successes\n",
        "          int n -> number of trials\n",
        "          float level -> confidence level\n",
        "  Output: formatted string\n",
        "  '''\n",
        "  result_format = \"\"\n",
        "  dictionary  = {}\n",
        "  if method == \"Normal\":\n",
        "    result_format = normal_to_binomial(x, n, level, str_format)\n",
        "  elif method == \"Clopper Pearson\":\n",
        "    result_format = clopper_pearson(x, n, level, str_format)\n",
        "  elif method == \"Jeffreys\":\n",
        "    result_format = jeffreys(x, n, level, str_format)\n",
        "  elif method == \"Agresti Coull\":\n",
        "    result_format = agresti_coull(x, n, level, str_format)\n",
        "  return result_format\n",
        "\n",
        "#i. Normal approximation to the Binomial distribution\n",
        "def normal_to_binomial(x, n, level, str_format):\n",
        "'''\n",
        "Inputs: int x -> number of successes\n",
        "        int n -> number of trials\n",
        "        int level -> confidence level\n",
        "        bool str_format \n",
        "Output: confidence interval as a String \n",
        "'''\n",
        "  p = x/n #point estimate (sample proportion)\n",
        "  #check if np ∧ n(1-p) > 12\n",
        "  condition1 = n*p > 12\n",
        "  condition2 = n*(1-p) >12\n",
        "\n",
        "  if condition1 == True & condition2 == True:\n",
        "    #compute the interval estimate (CI)\n",
        "    alpha_level = (1 - level)/2\n",
        "    z = norm.ppf(1 - alpha_level)\n",
        "\n",
        "    lwr = round(p - z * math.sqrt((p*(1-p))/n), 4)\n",
        "    upr = round(p + z * math.sqrt((p*(1-p))/n), 4)\n",
        "    \n",
        "    dictionary = {\"est\": round(p,2), \"lwr\": lwr, \"upr\": upr, \"level\": level}\n",
        "    stat_str = \"θ[{0}%CI: ({1}, {2})]\".format(str(int(level*100)), str(lwr), str(upr))\n",
        "    \n",
        "    if str_format == True:\n",
        "      return stat_str\n",
        "    else: \n",
        "      return dictionary\n",
        "  else:\n",
        "    print(\"The approximation is not considered adequate.\")\n",
        "    return None"
      ],
      "execution_count": null,
      "outputs": []
    },
    {
      "cell_type": "code",
      "metadata": {
        "id": "JX2DNEJ-Uovt"
      },
      "source": [
        "#ii. Clopper-Pearson Interval\n",
        "def clopper_pearson(x, n, level, str_format):\n",
        "'''\n",
        "Inputs: int x -> number of successes\n",
        "        int n -> number of trials\n",
        "        int level -> confidence level\n",
        "        bool str_format \n",
        "Output: confidence interval as a String \n",
        "'''\n",
        "  alpha = 1 - level\n",
        "  lwr = round(beta.ppf(alpha/2, x, n - x +1), 4)\n",
        "  upr = round(beta.ppf(1 - alpha/2, x + 1, n - x), 4)\n",
        "  stat_str = \"θ[{0}%CI: ({1}, {2})]\".format(str(int(level*100)), str(lwr), str(upr))\n",
        "  if str_format == True:\n",
        "    return stat_str\n",
        "  else:\n",
        "    return {\"est\": round(x/n, 2), \"lwr\": lwr, \"upr\": upr, \"level\": level} "
      ],
      "execution_count": null,
      "outputs": []
    },
    {
      "cell_type": "code",
      "metadata": {
        "id": "wgA9QOmBPYNn"
      },
      "source": [
        "#iii. Jeffrey's Interval\n",
        "def jeffreys(x, n, level, str_format):\n",
        "'''\n",
        "Inputs: int x -> number of successes\n",
        "        int n -> number of trials\n",
        "        int level -> confidence level\n",
        "        bool str_format \n",
        "Output: confidence interval as a String \n",
        "'''\n",
        "  p = x/n\n",
        "  alpha = 1 - level\n",
        "  lwr = round(max(0, beta.ppf(alpha/2, x+0.5, n-x+0.5)), 4)\n",
        "  upr = round(min(beta.ppf(1-alpha/2, x+0.5, n-x+0.5), 1), 4)\n",
        "  stat_str = \"θ[{0}%CI: ({1}, {2})]\".format(str(int(level*100)), str(lwr), str(upr))\n",
        "  if str_format == True:\n",
        "    return stat_str\n",
        "  else:\n",
        "    return {\"est\": round(x/n, 2), \"lwr\": lwr, \"upr\": upr, \"level\": level} "
      ],
      "execution_count": null,
      "outputs": []
    },
    {
      "cell_type": "code",
      "metadata": {
        "id": "v1jw5b3maO53"
      },
      "source": [
        "#iv. Agresti-Coull Interval\n",
        "def agresti_coull(x, n, level, str_format):\n",
        "'''\n",
        "Inputs: int x -> number of successes\n",
        "        int n -> number of trials\n",
        "        int level -> confidence level\n",
        "        bool str_format \n",
        "Output: confidence interval as a String \n",
        "'''\n",
        "  alpha_level = (1 - level)/2\n",
        "  z = norm.ppf(1 - alpha_level)\n",
        "\n",
        "  n_hat = n + z**2\n",
        "  p_hat = (x + z**2/2)/n_hat\n",
        "\n",
        "  lwr = round(p_hat - z * math.sqrt((p_hat*(1-p_hat))/n_hat), 4)\n",
        "  upr = round(p_hat + z * math.sqrt((p_hat*(1-p_hat))/n_hat), 4)\n",
        "  stat_str = \"θ[{0}%CI: ({1}, {2})]\".format(str(int(level*100)), str(lwr), str(upr))\n",
        "  if str_format == True:\n",
        "    return stat_str\n",
        "  else:\n",
        "    return {\"est\": round(x/n, 2), \"lwr\": lwr, \"upr\": upr, \"level\": level} "
      ],
      "execution_count": null,
      "outputs": []
    },
    {
      "cell_type": "code",
      "metadata": {
        "colab": {
          "base_uri": "https://localhost:8080/"
        },
        "id": "jU7EUJslgvec",
        "outputId": "73169cde-6d96-482e-99a0-f256b34154a7"
      },
      "source": [
        "CI_calculator(\"Jeffreys\", 35, 200, 0.95, True)"
      ],
      "execution_count": null,
      "outputs": [
        {
          "name": "stdout",
          "output_type": "stream",
          "text": [
            "θ[95%CI: (0.1272, 0.2321)]\n"
          ]
        },
        {
          "data": {
            "text/plain": [
              "{'est': 0.17, 'level': 0.95, 'lwr': 0.1272, 'upr': 0.2321}"
            ]
          },
          "execution_count": 98,
          "metadata": {},
          "output_type": "execute_result"
        }
      ]
    },
    {
      "cell_type": "code",
      "metadata": {
        "colab": {
          "base_uri": "https://localhost:8080/"
        },
        "id": "hF9n6KRIj8lS",
        "outputId": "01344eab-19b4-4633-a3b2-37f42067fd5a"
      },
      "source": [
        "#3c.\n",
        "data = np.concatenate((np.ones(42),np.zeros(48)))\n",
        "\n",
        "levels = [0.9, 0.95, 0.99]\n",
        "methods = [\"Normal\", \"Clopper Pearson\", \"Jeffreys\", \"Agresti Coull\"]\n",
        "table_data = []\n",
        "\n",
        "for i in methods:\n",
        "  CIs = [i]\n",
        "  for j in levels:\n",
        "    temp = CI_calculator(i, 42, 42+48, j)\n",
        "    CIs.append(temp[\"lwr\"])\n",
        "    CIs.append(temp[\"upr\"])\n",
        "  table_data.append(CIs)\n",
        "print(tabulate(table_data))"
      ],
      "execution_count": null,
      "outputs": [
        {
          "name": "stdout",
          "output_type": "stream",
          "text": [
            "θ[90%CI: (0.3802, 0.5532)]\n",
            "θ[95%CI: (0.3636, 0.5697)]\n",
            "θ[99%CI: (0.3312, 0.6021)]\n",
            "θ[90%CI: (0.3765, 0.5586)]\n",
            "θ[95%CI: (0.3607, 0.5749)]\n",
            "θ[99%CI: (0.3306, 0.6064)]\n",
            "θ[90%CI: (0.3818, 0.5531)]\n",
            "θ[95%CI: (0.366, 0.5694)]\n",
            "θ[99%CI: (0.3357, 0.601)]\n",
            "θ[90%CI: (0.3824, 0.5529)]\n",
            "θ[95%CI: (0.3671, 0.569)]\n",
            "θ[99%CI: (0.3382, 0.5997)]\n",
            "---------------  ------  ------  ------  ------  ------  ------\n",
            "Normal           0.3802  0.5532  0.3636  0.5697  0.3312  0.6021\n",
            "Clopper Pearson  0.3765  0.5586  0.3607  0.5749  0.3306  0.6064\n",
            "Jeffreys         0.3818  0.5531  0.366   0.5694  0.3357  0.601\n",
            "Agresti Coull    0.3824  0.5529  0.3671  0.569   0.3382  0.5997\n",
            "---------------  ------  ------  ------  ------  ------  ------\n"
          ]
        }
      ]
    }
  ]
}